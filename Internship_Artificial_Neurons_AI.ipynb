{
  "nbformat": 4,
  "nbformat_minor": 0,
  "metadata": {
    "colab": {
      "provenance": [],
      "collapsed_sections": []
    },
    "kernelspec": {
      "name": "python3",
      "display_name": "Python 3"
    },
    "language_info": {
      "name": "python"
    }
  },
  "cells": [
    {
      "cell_type": "markdown",
      "source": [
        "**Elanchezhian K R**"
      ],
      "metadata": {
        "id": "tjsZYP-RIJnE"
      }
    },
    {
      "cell_type": "code",
      "execution_count": 2,
      "metadata": {
        "id": "UoY8VMDzcwf0"
      },
      "outputs": [],
      "source": [
        "# importing Libraries\n",
        "import pandas as pd # mainly for working with relational or labeled data easily \n",
        "import seaborn as sns # used for Visualisation\n",
        "import matplotlib.pyplot as plt # used for Visualisation"
      ]
    },
    {
      "cell_type": "code",
      "source": [
        "# Loading the dataset\n",
        "df = pd.read_excel(r'/content/Data Visualization Assignmnet Original.xlsx')\n",
        "df.head()"
      ],
      "metadata": {
        "colab": {
          "base_uri": "https://localhost:8080/",
          "height": 206
        },
        "id": "HVcL_KoqdWNW",
        "outputId": "97b25006-2f03-4dc2-f86d-9965196b726b"
      },
      "execution_count": 30,
      "outputs": [
        {
          "output_type": "execute_result",
          "data": {
            "text/plain": [
              "        DATE DESCRIPTION  UNIT          PLACE\n",
              "0 2022-04-01        Beef   1.0    Kolenchery \n",
              "1 2022-04-01        Fish   1.0    Kolenchery \n",
              "2 2022-04-03        Beef   2.0  Tripunithura \n",
              "3 2022-04-05      Prawns   1.0     Bangalore \n",
              "4 2022-04-06       Dates   1.0      Mangalore"
            ],
            "text/html": [
              "\n",
              "  <div id=\"df-b63c8c5b-d0de-47ec-94c2-f671fb189afe\">\n",
              "    <div class=\"colab-df-container\">\n",
              "      <div>\n",
              "<style scoped>\n",
              "    .dataframe tbody tr th:only-of-type {\n",
              "        vertical-align: middle;\n",
              "    }\n",
              "\n",
              "    .dataframe tbody tr th {\n",
              "        vertical-align: top;\n",
              "    }\n",
              "\n",
              "    .dataframe thead th {\n",
              "        text-align: right;\n",
              "    }\n",
              "</style>\n",
              "<table border=\"1\" class=\"dataframe\">\n",
              "  <thead>\n",
              "    <tr style=\"text-align: right;\">\n",
              "      <th></th>\n",
              "      <th>DATE</th>\n",
              "      <th>DESCRIPTION</th>\n",
              "      <th>UNIT</th>\n",
              "      <th>PLACE</th>\n",
              "    </tr>\n",
              "  </thead>\n",
              "  <tbody>\n",
              "    <tr>\n",
              "      <th>0</th>\n",
              "      <td>2022-04-01</td>\n",
              "      <td>Beef</td>\n",
              "      <td>1.0</td>\n",
              "      <td>Kolenchery</td>\n",
              "    </tr>\n",
              "    <tr>\n",
              "      <th>1</th>\n",
              "      <td>2022-04-01</td>\n",
              "      <td>Fish</td>\n",
              "      <td>1.0</td>\n",
              "      <td>Kolenchery</td>\n",
              "    </tr>\n",
              "    <tr>\n",
              "      <th>2</th>\n",
              "      <td>2022-04-03</td>\n",
              "      <td>Beef</td>\n",
              "      <td>2.0</td>\n",
              "      <td>Tripunithura</td>\n",
              "    </tr>\n",
              "    <tr>\n",
              "      <th>3</th>\n",
              "      <td>2022-04-05</td>\n",
              "      <td>Prawns</td>\n",
              "      <td>1.0</td>\n",
              "      <td>Bangalore</td>\n",
              "    </tr>\n",
              "    <tr>\n",
              "      <th>4</th>\n",
              "      <td>2022-04-06</td>\n",
              "      <td>Dates</td>\n",
              "      <td>1.0</td>\n",
              "      <td>Mangalore</td>\n",
              "    </tr>\n",
              "  </tbody>\n",
              "</table>\n",
              "</div>\n",
              "      <button class=\"colab-df-convert\" onclick=\"convertToInteractive('df-b63c8c5b-d0de-47ec-94c2-f671fb189afe')\"\n",
              "              title=\"Convert this dataframe to an interactive table.\"\n",
              "              style=\"display:none;\">\n",
              "        \n",
              "  <svg xmlns=\"http://www.w3.org/2000/svg\" height=\"24px\"viewBox=\"0 0 24 24\"\n",
              "       width=\"24px\">\n",
              "    <path d=\"M0 0h24v24H0V0z\" fill=\"none\"/>\n",
              "    <path d=\"M18.56 5.44l.94 2.06.94-2.06 2.06-.94-2.06-.94-.94-2.06-.94 2.06-2.06.94zm-11 1L8.5 8.5l.94-2.06 2.06-.94-2.06-.94L8.5 2.5l-.94 2.06-2.06.94zm10 10l.94 2.06.94-2.06 2.06-.94-2.06-.94-.94-2.06-.94 2.06-2.06.94z\"/><path d=\"M17.41 7.96l-1.37-1.37c-.4-.4-.92-.59-1.43-.59-.52 0-1.04.2-1.43.59L10.3 9.45l-7.72 7.72c-.78.78-.78 2.05 0 2.83L4 21.41c.39.39.9.59 1.41.59.51 0 1.02-.2 1.41-.59l7.78-7.78 2.81-2.81c.8-.78.8-2.07 0-2.86zM5.41 20L4 18.59l7.72-7.72 1.47 1.35L5.41 20z\"/>\n",
              "  </svg>\n",
              "      </button>\n",
              "      \n",
              "  <style>\n",
              "    .colab-df-container {\n",
              "      display:flex;\n",
              "      flex-wrap:wrap;\n",
              "      gap: 12px;\n",
              "    }\n",
              "\n",
              "    .colab-df-convert {\n",
              "      background-color: #E8F0FE;\n",
              "      border: none;\n",
              "      border-radius: 50%;\n",
              "      cursor: pointer;\n",
              "      display: none;\n",
              "      fill: #1967D2;\n",
              "      height: 32px;\n",
              "      padding: 0 0 0 0;\n",
              "      width: 32px;\n",
              "    }\n",
              "\n",
              "    .colab-df-convert:hover {\n",
              "      background-color: #E2EBFA;\n",
              "      box-shadow: 0px 1px 2px rgba(60, 64, 67, 0.3), 0px 1px 3px 1px rgba(60, 64, 67, 0.15);\n",
              "      fill: #174EA6;\n",
              "    }\n",
              "\n",
              "    [theme=dark] .colab-df-convert {\n",
              "      background-color: #3B4455;\n",
              "      fill: #D2E3FC;\n",
              "    }\n",
              "\n",
              "    [theme=dark] .colab-df-convert:hover {\n",
              "      background-color: #434B5C;\n",
              "      box-shadow: 0px 1px 3px 1px rgba(0, 0, 0, 0.15);\n",
              "      filter: drop-shadow(0px 1px 2px rgba(0, 0, 0, 0.3));\n",
              "      fill: #FFFFFF;\n",
              "    }\n",
              "  </style>\n",
              "\n",
              "      <script>\n",
              "        const buttonEl =\n",
              "          document.querySelector('#df-b63c8c5b-d0de-47ec-94c2-f671fb189afe button.colab-df-convert');\n",
              "        buttonEl.style.display =\n",
              "          google.colab.kernel.accessAllowed ? 'block' : 'none';\n",
              "\n",
              "        async function convertToInteractive(key) {\n",
              "          const element = document.querySelector('#df-b63c8c5b-d0de-47ec-94c2-f671fb189afe');\n",
              "          const dataTable =\n",
              "            await google.colab.kernel.invokeFunction('convertToInteractive',\n",
              "                                                     [key], {});\n",
              "          if (!dataTable) return;\n",
              "\n",
              "          const docLinkHtml = 'Like what you see? Visit the ' +\n",
              "            '<a target=\"_blank\" href=https://colab.research.google.com/notebooks/data_table.ipynb>data table notebook</a>'\n",
              "            + ' to learn more about interactive tables.';\n",
              "          element.innerHTML = '';\n",
              "          dataTable['output_type'] = 'display_data';\n",
              "          await google.colab.output.renderOutput(dataTable, element);\n",
              "          const docLink = document.createElement('div');\n",
              "          docLink.innerHTML = docLinkHtml;\n",
              "          element.appendChild(docLink);\n",
              "        }\n",
              "      </script>\n",
              "    </div>\n",
              "  </div>\n",
              "  "
            ]
          },
          "metadata": {},
          "execution_count": 30
        }
      ]
    },
    {
      "cell_type": "code",
      "source": [
        "# Finding shape of dataset\n",
        "df.shape"
      ],
      "metadata": {
        "colab": {
          "base_uri": "https://localhost:8080/"
        },
        "id": "I4mB4sxQdWQY",
        "outputId": "d73f1a03-dbca-47dc-f08b-31a73e9eb6f1"
      },
      "execution_count": 31,
      "outputs": [
        {
          "output_type": "execute_result",
          "data": {
            "text/plain": [
              "(111, 4)"
            ]
          },
          "metadata": {},
          "execution_count": 31
        }
      ]
    },
    {
      "cell_type": "code",
      "source": [
        "# Info about dataset\n",
        "df.info()"
      ],
      "metadata": {
        "colab": {
          "base_uri": "https://localhost:8080/"
        },
        "id": "Y-HeWpXydWSb",
        "outputId": "e9a5ec13-877b-4381-c1f2-2aa71b68e8f3"
      },
      "execution_count": 32,
      "outputs": [
        {
          "output_type": "stream",
          "name": "stdout",
          "text": [
            "<class 'pandas.core.frame.DataFrame'>\n",
            "RangeIndex: 111 entries, 0 to 110\n",
            "Data columns (total 4 columns):\n",
            " #   Column       Non-Null Count  Dtype         \n",
            "---  ------       --------------  -----         \n",
            " 0   DATE         111 non-null    datetime64[ns]\n",
            " 1   DESCRIPTION  111 non-null    object        \n",
            " 2   UNIT         111 non-null    float64       \n",
            " 3   PLACE        103 non-null    object        \n",
            "dtypes: datetime64[ns](1), float64(1), object(2)\n",
            "memory usage: 3.6+ KB\n"
          ]
        }
      ]
    },
    {
      "cell_type": "code",
      "source": [
        "# check for null values\n",
        "df.isna().sum()"
      ],
      "metadata": {
        "colab": {
          "base_uri": "https://localhost:8080/"
        },
        "id": "0KSnKfdpdWYV",
        "outputId": "55ddca2b-1c4c-43f7-a09d-41c7f7c599cc"
      },
      "execution_count": 34,
      "outputs": [
        {
          "output_type": "execute_result",
          "data": {
            "text/plain": [
              "DATE           0\n",
              "DESCRIPTION    0\n",
              "UNIT           0\n",
              "PLACE          8\n",
              "dtype: int64"
            ]
          },
          "metadata": {},
          "execution_count": 34
        }
      ]
    },
    {
      "cell_type": "code",
      "source": [
        "# Dropping null Values\n",
        "df=df.dropna()"
      ],
      "metadata": {
        "id": "7_TOb6Z9dWcM"
      },
      "execution_count": 35,
      "outputs": []
    },
    {
      "cell_type": "code",
      "source": [
        "# checking whether the null values are remove are not\n",
        "df.isna().sum()"
      ],
      "metadata": {
        "colab": {
          "base_uri": "https://localhost:8080/"
        },
        "id": "61EpsZ_TdWex",
        "outputId": "372a1ee5-aa7a-4b79-bcdf-2a310fd93c61"
      },
      "execution_count": 36,
      "outputs": [
        {
          "output_type": "execute_result",
          "data": {
            "text/plain": [
              "DATE           0\n",
              "DESCRIPTION    0\n",
              "UNIT           0\n",
              "PLACE          0\n",
              "dtype: int64"
            ]
          },
          "metadata": {},
          "execution_count": 36
        }
      ]
    },
    {
      "cell_type": "code",
      "source": [
        "# checking dataset shape after droping null values\n",
        "df.shape"
      ],
      "metadata": {
        "colab": {
          "base_uri": "https://localhost:8080/"
        },
        "id": "4TWg4t04dWgs",
        "outputId": "cce1933d-d8b5-43de-9278-19773fe30155"
      },
      "execution_count": 37,
      "outputs": [
        {
          "output_type": "execute_result",
          "data": {
            "text/plain": [
              "(103, 4)"
            ]
          },
          "metadata": {},
          "execution_count": 37
        }
      ]
    },
    {
      "cell_type": "code",
      "source": [
        "finding unique values in PLACE column\n",
        "df['PLACE'].unique()"
      ],
      "metadata": {
        "colab": {
          "base_uri": "https://localhost:8080/"
        },
        "id": "kWSYXfQKeyNK",
        "outputId": "04a9330f-4fb7-4697-852d-cee039756424"
      },
      "execution_count": 38,
      "outputs": [
        {
          "output_type": "execute_result",
          "data": {
            "text/plain": [
              "array(['Kolenchery ', 'Tripunithura ', 'Bangalore ', 'Mangalore',\n",
              "       'Pathanamthitta ', 'Pune', 'Malappuram', 'Padappai- Tamilnadu',\n",
              "       'Nettoor', 'Kottayam', 'Jabalpur - Madhyapradesh',\n",
              "       'Eroor - Vytila', 'Kanjiramttom', 'Vazhakala', 'Noida - UP',\n",
              "       'Mumbai', 'United States', 'Bangalore to US', 'To Kottayam',\n",
              "       'Chennai', 'Kumily', 'Mangalore - Ullal', 'Tripunithura', 'Kochi',\n",
              "       'Eloor', 'Tripunithurra', 'Aroor', 'Thrissur/ Guruvayoor',\n",
              "       'Kakkanad', 'Bangalore', 'malappuram', 'Kadavanthra',\n",
              "       'kadavanthra'], dtype=object)"
            ]
          },
          "metadata": {},
          "execution_count": 38
        }
      ]
    },
    {
      "cell_type": "code",
      "source": [
        "# to get the overview of city I am grouping them by STATE by 'replace()\n",
        "\n",
        "df['STATE'] = df['PLACE'].replace({'Kolenchery ' : 'Kerala', 'Tripunithura ': 'Kerala', 'Bangalore ' : 'Karnataka', 'Mangalore' : 'Karnataka',\n",
        "'Pathanamthitta ' : 'Kerala', 'Pune' : 'Maharastra', 'Malappuram' : 'Kerala', 'Padappai- Tamilnadu' :'Tamil Nadu',\n",
        "'Nettoor': 'Kerala', 'Kottayam' : 'Kerala', 'Jabalpur - Madhyapradesh' : 'Madhyapradesh',\n",
        "'Eroor - Vytila' : 'Kerala', 'Kanjiramttom' : 'Kerala', 'Vazhakala' : 'Kerala', 'Noida - UP' : 'Uttar Pradesh',\n",
        "'Mumbai' : 'Maharastra',  'Bangalore to US' : 'USA', 'To Kottayam' : 'Kerala',\n",
        "'Chennai' : 'Tamil Nadu', 'Kumily' : 'Kerala', 'Mangalore - Ullal' : 'Karnataka', 'Tripunithura' : 'Kerala', 'Kochi' : 'Kerala',\n",
        "'Eloor' : 'Kerala' , 'Tripunithurra' :'Kerala', 'Aroor' : 'Kerala', 'Thrissur/ Guruvayoor': 'Kerala',\n",
        "'Kakkanad' : 'Kerala', 'Bangalore' : 'Karnataka', 'malappuram' : 'Kerala', 'Kadavanthra' : 'Kerala',\n",
        "'kadavanthra': 'Kerala'})"
      ],
      "metadata": {
        "id": "BYjdo-q5dWih"
      },
      "execution_count": 39,
      "outputs": []
    },
    {
      "cell_type": "code",
      "source": [
        "# finding unique values\n",
        "df['DESCRIPTION'].unique()"
      ],
      "metadata": {
        "colab": {
          "base_uri": "https://localhost:8080/"
        },
        "id": "f4wyKCw_tghu",
        "outputId": "e2d055ea-d976-468b-aed3-815ca8142e41"
      },
      "execution_count": 64,
      "outputs": [
        {
          "output_type": "execute_result",
          "data": {
            "text/plain": [
              "array(['Beef', 'Fish', 'Prawns', 'Dates', 'Mango', 'Lemon', 'Dry fruits',\n",
              "       'King Fish', 'Dryfruits', 'Kadumanga'], dtype=object)"
            ]
          },
          "metadata": {},
          "execution_count": 64
        }
      ]
    },
    {
      "cell_type": "code",
      "source": [
        "# grouping foods by category by .replace()\n",
        "df['FOOD_CATEGORY'] = df['DESCRIPTION'].replace({'Beef': 'VEG', 'Fish' : 'NON_VEG', 'Prawns' : 'NON_VEG', 'Dates':'VEG', 'Mango':'VEG', 'Lemon': 'VEG', 'Dry fruits' : 'VEG',\n",
        "'King Fish' : 'NON_VEG', 'Dryfruits' : 'VEG', 'Kadumanga':'VEG'})"
      ],
      "metadata": {
        "id": "cV_AIWRyuZik"
      },
      "execution_count": 65,
      "outputs": []
    },
    {
      "cell_type": "code",
      "source": [
        "# viewing top 5 rows \n",
        "df.head()"
      ],
      "metadata": {
        "colab": {
          "base_uri": "https://localhost:8080/",
          "height": 206
        },
        "id": "Cv7urqZceyQi",
        "outputId": "7379d965-86d9-4161-e303-38e59dbacc18"
      },
      "execution_count": 66,
      "outputs": [
        {
          "output_type": "execute_result",
          "data": {
            "text/plain": [
              "        DATE DESCRIPTION  UNIT          PLACE      STATE  day  month  week_No  \\\n",
              "0 2022-04-01        Beef   1.0    Kolenchery      Kerala    1      4        1   \n",
              "1 2022-04-01        Fish   1.0    Kolenchery      Kerala    1      4        1   \n",
              "2 2022-04-03        Beef   2.0  Tripunithura      Kerala    3      4        1   \n",
              "3 2022-04-05      Prawns   1.0     Bangalore   Karnataka    5      4        1   \n",
              "4 2022-04-06       Dates   1.0      Mangalore  Karnataka    6      4        1   \n",
              "\n",
              "    DAY_NAME  MONTH FOOD_CATEGORY  \n",
              "0     Friday  April           VEG  \n",
              "1     Friday  April       NON_VEG  \n",
              "2     Sunday  April           VEG  \n",
              "3    Tuesday  April       NON_VEG  \n",
              "4  Wednesday  April           VEG  "
            ],
            "text/html": [
              "\n",
              "  <div id=\"df-e5cf62a7-185e-409d-896c-ac8010048b5c\">\n",
              "    <div class=\"colab-df-container\">\n",
              "      <div>\n",
              "<style scoped>\n",
              "    .dataframe tbody tr th:only-of-type {\n",
              "        vertical-align: middle;\n",
              "    }\n",
              "\n",
              "    .dataframe tbody tr th {\n",
              "        vertical-align: top;\n",
              "    }\n",
              "\n",
              "    .dataframe thead th {\n",
              "        text-align: right;\n",
              "    }\n",
              "</style>\n",
              "<table border=\"1\" class=\"dataframe\">\n",
              "  <thead>\n",
              "    <tr style=\"text-align: right;\">\n",
              "      <th></th>\n",
              "      <th>DATE</th>\n",
              "      <th>DESCRIPTION</th>\n",
              "      <th>UNIT</th>\n",
              "      <th>PLACE</th>\n",
              "      <th>STATE</th>\n",
              "      <th>day</th>\n",
              "      <th>month</th>\n",
              "      <th>week_No</th>\n",
              "      <th>DAY_NAME</th>\n",
              "      <th>MONTH</th>\n",
              "      <th>FOOD_CATEGORY</th>\n",
              "    </tr>\n",
              "  </thead>\n",
              "  <tbody>\n",
              "    <tr>\n",
              "      <th>0</th>\n",
              "      <td>2022-04-01</td>\n",
              "      <td>Beef</td>\n",
              "      <td>1.0</td>\n",
              "      <td>Kolenchery</td>\n",
              "      <td>Kerala</td>\n",
              "      <td>1</td>\n",
              "      <td>4</td>\n",
              "      <td>1</td>\n",
              "      <td>Friday</td>\n",
              "      <td>April</td>\n",
              "      <td>VEG</td>\n",
              "    </tr>\n",
              "    <tr>\n",
              "      <th>1</th>\n",
              "      <td>2022-04-01</td>\n",
              "      <td>Fish</td>\n",
              "      <td>1.0</td>\n",
              "      <td>Kolenchery</td>\n",
              "      <td>Kerala</td>\n",
              "      <td>1</td>\n",
              "      <td>4</td>\n",
              "      <td>1</td>\n",
              "      <td>Friday</td>\n",
              "      <td>April</td>\n",
              "      <td>NON_VEG</td>\n",
              "    </tr>\n",
              "    <tr>\n",
              "      <th>2</th>\n",
              "      <td>2022-04-03</td>\n",
              "      <td>Beef</td>\n",
              "      <td>2.0</td>\n",
              "      <td>Tripunithura</td>\n",
              "      <td>Kerala</td>\n",
              "      <td>3</td>\n",
              "      <td>4</td>\n",
              "      <td>1</td>\n",
              "      <td>Sunday</td>\n",
              "      <td>April</td>\n",
              "      <td>VEG</td>\n",
              "    </tr>\n",
              "    <tr>\n",
              "      <th>3</th>\n",
              "      <td>2022-04-05</td>\n",
              "      <td>Prawns</td>\n",
              "      <td>1.0</td>\n",
              "      <td>Bangalore</td>\n",
              "      <td>Karnataka</td>\n",
              "      <td>5</td>\n",
              "      <td>4</td>\n",
              "      <td>1</td>\n",
              "      <td>Tuesday</td>\n",
              "      <td>April</td>\n",
              "      <td>NON_VEG</td>\n",
              "    </tr>\n",
              "    <tr>\n",
              "      <th>4</th>\n",
              "      <td>2022-04-06</td>\n",
              "      <td>Dates</td>\n",
              "      <td>1.0</td>\n",
              "      <td>Mangalore</td>\n",
              "      <td>Karnataka</td>\n",
              "      <td>6</td>\n",
              "      <td>4</td>\n",
              "      <td>1</td>\n",
              "      <td>Wednesday</td>\n",
              "      <td>April</td>\n",
              "      <td>VEG</td>\n",
              "    </tr>\n",
              "  </tbody>\n",
              "</table>\n",
              "</div>\n",
              "      <button class=\"colab-df-convert\" onclick=\"convertToInteractive('df-e5cf62a7-185e-409d-896c-ac8010048b5c')\"\n",
              "              title=\"Convert this dataframe to an interactive table.\"\n",
              "              style=\"display:none;\">\n",
              "        \n",
              "  <svg xmlns=\"http://www.w3.org/2000/svg\" height=\"24px\"viewBox=\"0 0 24 24\"\n",
              "       width=\"24px\">\n",
              "    <path d=\"M0 0h24v24H0V0z\" fill=\"none\"/>\n",
              "    <path d=\"M18.56 5.44l.94 2.06.94-2.06 2.06-.94-2.06-.94-.94-2.06-.94 2.06-2.06.94zm-11 1L8.5 8.5l.94-2.06 2.06-.94-2.06-.94L8.5 2.5l-.94 2.06-2.06.94zm10 10l.94 2.06.94-2.06 2.06-.94-2.06-.94-.94-2.06-.94 2.06-2.06.94z\"/><path d=\"M17.41 7.96l-1.37-1.37c-.4-.4-.92-.59-1.43-.59-.52 0-1.04.2-1.43.59L10.3 9.45l-7.72 7.72c-.78.78-.78 2.05 0 2.83L4 21.41c.39.39.9.59 1.41.59.51 0 1.02-.2 1.41-.59l7.78-7.78 2.81-2.81c.8-.78.8-2.07 0-2.86zM5.41 20L4 18.59l7.72-7.72 1.47 1.35L5.41 20z\"/>\n",
              "  </svg>\n",
              "      </button>\n",
              "      \n",
              "  <style>\n",
              "    .colab-df-container {\n",
              "      display:flex;\n",
              "      flex-wrap:wrap;\n",
              "      gap: 12px;\n",
              "    }\n",
              "\n",
              "    .colab-df-convert {\n",
              "      background-color: #E8F0FE;\n",
              "      border: none;\n",
              "      border-radius: 50%;\n",
              "      cursor: pointer;\n",
              "      display: none;\n",
              "      fill: #1967D2;\n",
              "      height: 32px;\n",
              "      padding: 0 0 0 0;\n",
              "      width: 32px;\n",
              "    }\n",
              "\n",
              "    .colab-df-convert:hover {\n",
              "      background-color: #E2EBFA;\n",
              "      box-shadow: 0px 1px 2px rgba(60, 64, 67, 0.3), 0px 1px 3px 1px rgba(60, 64, 67, 0.15);\n",
              "      fill: #174EA6;\n",
              "    }\n",
              "\n",
              "    [theme=dark] .colab-df-convert {\n",
              "      background-color: #3B4455;\n",
              "      fill: #D2E3FC;\n",
              "    }\n",
              "\n",
              "    [theme=dark] .colab-df-convert:hover {\n",
              "      background-color: #434B5C;\n",
              "      box-shadow: 0px 1px 3px 1px rgba(0, 0, 0, 0.15);\n",
              "      filter: drop-shadow(0px 1px 2px rgba(0, 0, 0, 0.3));\n",
              "      fill: #FFFFFF;\n",
              "    }\n",
              "  </style>\n",
              "\n",
              "      <script>\n",
              "        const buttonEl =\n",
              "          document.querySelector('#df-e5cf62a7-185e-409d-896c-ac8010048b5c button.colab-df-convert');\n",
              "        buttonEl.style.display =\n",
              "          google.colab.kernel.accessAllowed ? 'block' : 'none';\n",
              "\n",
              "        async function convertToInteractive(key) {\n",
              "          const element = document.querySelector('#df-e5cf62a7-185e-409d-896c-ac8010048b5c');\n",
              "          const dataTable =\n",
              "            await google.colab.kernel.invokeFunction('convertToInteractive',\n",
              "                                                     [key], {});\n",
              "          if (!dataTable) return;\n",
              "\n",
              "          const docLinkHtml = 'Like what you see? Visit the ' +\n",
              "            '<a target=\"_blank\" href=https://colab.research.google.com/notebooks/data_table.ipynb>data table notebook</a>'\n",
              "            + ' to learn more about interactive tables.';\n",
              "          element.innerHTML = '';\n",
              "          dataTable['output_type'] = 'display_data';\n",
              "          await google.colab.output.renderOutput(dataTable, element);\n",
              "          const docLink = document.createElement('div');\n",
              "          docLink.innerHTML = docLinkHtml;\n",
              "          element.appendChild(docLink);\n",
              "        }\n",
              "      </script>\n",
              "    </div>\n",
              "  </div>\n",
              "  "
            ]
          },
          "metadata": {},
          "execution_count": 66
        }
      ]
    },
    {
      "cell_type": "code",
      "source": [
        "df['day'] = df['DATE'].apply(lambda r:r.day) # Extracting Day number from 'DATE' and creating new column\n",
        "df['month'] = df['DATE'].apply(lambda r:r.month) # Extracting Month number from 'DATE' and creating new column\n",
        "df['week_No'] = df['DATE'].apply(lambda d: (d.day-1) // 7 + 1) # Extracting Week  number from 'DATE' and creating new column\n",
        "df['DAY_NAME'] = df['DATE'].dt.day_name() # Extracting Day name from 'DATE' and creating new column\n",
        "df['MONTH'] = df['month'].replace({4:'April',5:'May',6:'June'}) # replacing month number by corresponding month name"
      ],
      "metadata": {
        "id": "nG0C7YOIdWlL"
      },
      "execution_count": 41,
      "outputs": []
    },
    {
      "cell_type": "code",
      "source": [
        "df['temp'] = df['FOOD_CATEGORY'].replace({'NON_VEG': 1,'VEG':0})"
      ],
      "metadata": {
        "id": "W3CQE9yUAOzV"
      },
      "execution_count": 89,
      "outputs": []
    },
    {
      "cell_type": "code",
      "source": [
        "# Viewing top 5 rows\n",
        "df.head()"
      ],
      "metadata": {
        "colab": {
          "base_uri": "https://localhost:8080/",
          "height": 206
        },
        "id": "28EZs1xudWrD",
        "outputId": "734cd4bd-527a-4a27-e789-29d5400ceca9"
      },
      "execution_count": 90,
      "outputs": [
        {
          "output_type": "execute_result",
          "data": {
            "text/plain": [
              "        DATE DESCRIPTION  UNIT          PLACE      STATE  day  month  week_No  \\\n",
              "0 2022-04-01        Beef   1.0    Kolenchery      Kerala    1      4        1   \n",
              "1 2022-04-01        Fish   1.0    Kolenchery      Kerala    1      4        1   \n",
              "2 2022-04-03        Beef   2.0  Tripunithura      Kerala    3      4        1   \n",
              "3 2022-04-05      Prawns   1.0     Bangalore   Karnataka    5      4        1   \n",
              "4 2022-04-06       Dates   1.0      Mangalore  Karnataka    6      4        1   \n",
              "\n",
              "    DAY_NAME  MONTH FOOD_CATEGORY  temp  \n",
              "0     Friday  April           VEG     0  \n",
              "1     Friday  April       NON_VEG     1  \n",
              "2     Sunday  April           VEG     0  \n",
              "3    Tuesday  April       NON_VEG     1  \n",
              "4  Wednesday  April           VEG     0  "
            ],
            "text/html": [
              "\n",
              "  <div id=\"df-aba7ba52-329c-4d4a-b16d-20f77201edb7\">\n",
              "    <div class=\"colab-df-container\">\n",
              "      <div>\n",
              "<style scoped>\n",
              "    .dataframe tbody tr th:only-of-type {\n",
              "        vertical-align: middle;\n",
              "    }\n",
              "\n",
              "    .dataframe tbody tr th {\n",
              "        vertical-align: top;\n",
              "    }\n",
              "\n",
              "    .dataframe thead th {\n",
              "        text-align: right;\n",
              "    }\n",
              "</style>\n",
              "<table border=\"1\" class=\"dataframe\">\n",
              "  <thead>\n",
              "    <tr style=\"text-align: right;\">\n",
              "      <th></th>\n",
              "      <th>DATE</th>\n",
              "      <th>DESCRIPTION</th>\n",
              "      <th>UNIT</th>\n",
              "      <th>PLACE</th>\n",
              "      <th>STATE</th>\n",
              "      <th>day</th>\n",
              "      <th>month</th>\n",
              "      <th>week_No</th>\n",
              "      <th>DAY_NAME</th>\n",
              "      <th>MONTH</th>\n",
              "      <th>FOOD_CATEGORY</th>\n",
              "      <th>temp</th>\n",
              "    </tr>\n",
              "  </thead>\n",
              "  <tbody>\n",
              "    <tr>\n",
              "      <th>0</th>\n",
              "      <td>2022-04-01</td>\n",
              "      <td>Beef</td>\n",
              "      <td>1.0</td>\n",
              "      <td>Kolenchery</td>\n",
              "      <td>Kerala</td>\n",
              "      <td>1</td>\n",
              "      <td>4</td>\n",
              "      <td>1</td>\n",
              "      <td>Friday</td>\n",
              "      <td>April</td>\n",
              "      <td>VEG</td>\n",
              "      <td>0</td>\n",
              "    </tr>\n",
              "    <tr>\n",
              "      <th>1</th>\n",
              "      <td>2022-04-01</td>\n",
              "      <td>Fish</td>\n",
              "      <td>1.0</td>\n",
              "      <td>Kolenchery</td>\n",
              "      <td>Kerala</td>\n",
              "      <td>1</td>\n",
              "      <td>4</td>\n",
              "      <td>1</td>\n",
              "      <td>Friday</td>\n",
              "      <td>April</td>\n",
              "      <td>NON_VEG</td>\n",
              "      <td>1</td>\n",
              "    </tr>\n",
              "    <tr>\n",
              "      <th>2</th>\n",
              "      <td>2022-04-03</td>\n",
              "      <td>Beef</td>\n",
              "      <td>2.0</td>\n",
              "      <td>Tripunithura</td>\n",
              "      <td>Kerala</td>\n",
              "      <td>3</td>\n",
              "      <td>4</td>\n",
              "      <td>1</td>\n",
              "      <td>Sunday</td>\n",
              "      <td>April</td>\n",
              "      <td>VEG</td>\n",
              "      <td>0</td>\n",
              "    </tr>\n",
              "    <tr>\n",
              "      <th>3</th>\n",
              "      <td>2022-04-05</td>\n",
              "      <td>Prawns</td>\n",
              "      <td>1.0</td>\n",
              "      <td>Bangalore</td>\n",
              "      <td>Karnataka</td>\n",
              "      <td>5</td>\n",
              "      <td>4</td>\n",
              "      <td>1</td>\n",
              "      <td>Tuesday</td>\n",
              "      <td>April</td>\n",
              "      <td>NON_VEG</td>\n",
              "      <td>1</td>\n",
              "    </tr>\n",
              "    <tr>\n",
              "      <th>4</th>\n",
              "      <td>2022-04-06</td>\n",
              "      <td>Dates</td>\n",
              "      <td>1.0</td>\n",
              "      <td>Mangalore</td>\n",
              "      <td>Karnataka</td>\n",
              "      <td>6</td>\n",
              "      <td>4</td>\n",
              "      <td>1</td>\n",
              "      <td>Wednesday</td>\n",
              "      <td>April</td>\n",
              "      <td>VEG</td>\n",
              "      <td>0</td>\n",
              "    </tr>\n",
              "  </tbody>\n",
              "</table>\n",
              "</div>\n",
              "      <button class=\"colab-df-convert\" onclick=\"convertToInteractive('df-aba7ba52-329c-4d4a-b16d-20f77201edb7')\"\n",
              "              title=\"Convert this dataframe to an interactive table.\"\n",
              "              style=\"display:none;\">\n",
              "        \n",
              "  <svg xmlns=\"http://www.w3.org/2000/svg\" height=\"24px\"viewBox=\"0 0 24 24\"\n",
              "       width=\"24px\">\n",
              "    <path d=\"M0 0h24v24H0V0z\" fill=\"none\"/>\n",
              "    <path d=\"M18.56 5.44l.94 2.06.94-2.06 2.06-.94-2.06-.94-.94-2.06-.94 2.06-2.06.94zm-11 1L8.5 8.5l.94-2.06 2.06-.94-2.06-.94L8.5 2.5l-.94 2.06-2.06.94zm10 10l.94 2.06.94-2.06 2.06-.94-2.06-.94-.94-2.06-.94 2.06-2.06.94z\"/><path d=\"M17.41 7.96l-1.37-1.37c-.4-.4-.92-.59-1.43-.59-.52 0-1.04.2-1.43.59L10.3 9.45l-7.72 7.72c-.78.78-.78 2.05 0 2.83L4 21.41c.39.39.9.59 1.41.59.51 0 1.02-.2 1.41-.59l7.78-7.78 2.81-2.81c.8-.78.8-2.07 0-2.86zM5.41 20L4 18.59l7.72-7.72 1.47 1.35L5.41 20z\"/>\n",
              "  </svg>\n",
              "      </button>\n",
              "      \n",
              "  <style>\n",
              "    .colab-df-container {\n",
              "      display:flex;\n",
              "      flex-wrap:wrap;\n",
              "      gap: 12px;\n",
              "    }\n",
              "\n",
              "    .colab-df-convert {\n",
              "      background-color: #E8F0FE;\n",
              "      border: none;\n",
              "      border-radius: 50%;\n",
              "      cursor: pointer;\n",
              "      display: none;\n",
              "      fill: #1967D2;\n",
              "      height: 32px;\n",
              "      padding: 0 0 0 0;\n",
              "      width: 32px;\n",
              "    }\n",
              "\n",
              "    .colab-df-convert:hover {\n",
              "      background-color: #E2EBFA;\n",
              "      box-shadow: 0px 1px 2px rgba(60, 64, 67, 0.3), 0px 1px 3px 1px rgba(60, 64, 67, 0.15);\n",
              "      fill: #174EA6;\n",
              "    }\n",
              "\n",
              "    [theme=dark] .colab-df-convert {\n",
              "      background-color: #3B4455;\n",
              "      fill: #D2E3FC;\n",
              "    }\n",
              "\n",
              "    [theme=dark] .colab-df-convert:hover {\n",
              "      background-color: #434B5C;\n",
              "      box-shadow: 0px 1px 3px 1px rgba(0, 0, 0, 0.15);\n",
              "      filter: drop-shadow(0px 1px 2px rgba(0, 0, 0, 0.3));\n",
              "      fill: #FFFFFF;\n",
              "    }\n",
              "  </style>\n",
              "\n",
              "      <script>\n",
              "        const buttonEl =\n",
              "          document.querySelector('#df-aba7ba52-329c-4d4a-b16d-20f77201edb7 button.colab-df-convert');\n",
              "        buttonEl.style.display =\n",
              "          google.colab.kernel.accessAllowed ? 'block' : 'none';\n",
              "\n",
              "        async function convertToInteractive(key) {\n",
              "          const element = document.querySelector('#df-aba7ba52-329c-4d4a-b16d-20f77201edb7');\n",
              "          const dataTable =\n",
              "            await google.colab.kernel.invokeFunction('convertToInteractive',\n",
              "                                                     [key], {});\n",
              "          if (!dataTable) return;\n",
              "\n",
              "          const docLinkHtml = 'Like what you see? Visit the ' +\n",
              "            '<a target=\"_blank\" href=https://colab.research.google.com/notebooks/data_table.ipynb>data table notebook</a>'\n",
              "            + ' to learn more about interactive tables.';\n",
              "          element.innerHTML = '';\n",
              "          dataTable['output_type'] = 'display_data';\n",
              "          await google.colab.output.renderOutput(dataTable, element);\n",
              "          const docLink = document.createElement('div');\n",
              "          docLink.innerHTML = docLinkHtml;\n",
              "          element.appendChild(docLink);\n",
              "        }\n",
              "      </script>\n",
              "    </div>\n",
              "  </div>\n",
              "  "
            ]
          },
          "metadata": {},
          "execution_count": 90
        }
      ]
    },
    {
      "cell_type": "code",
      "source": [
        "# Visualising UNIT of Shipment Qty by DAY_NAME\n",
        "\n",
        "plt.figure(figsize=(10,7)) \n",
        "order = df.groupby(['DAY_NAME']).mean().sort_values('UNIT' , ascending = False).index # specifying the order\n",
        "sns.barplot(df['DAY_NAME'], df['UNIT'],order=order).set_title(\"UNIT of Shipment Qty by DAY_NAME\",fontsize=15)\n",
        "plt.show()"
      ],
      "metadata": {
        "colab": {
          "base_uri": "https://localhost:8080/",
          "height": 516
        },
        "id": "8cDN5VA9jt_E",
        "outputId": "dc85fee3-04a1-4d83-efc5-88ebbe22cadf"
      },
      "execution_count": 87,
      "outputs": [
        {
          "output_type": "stream",
          "name": "stderr",
          "text": [
            "/usr/local/lib/python3.7/dist-packages/seaborn/_decorators.py:43: FutureWarning: Pass the following variables as keyword args: x, y. From version 0.12, the only valid positional argument will be `data`, and passing other arguments without an explicit keyword will result in an error or misinterpretation.\n",
            "  FutureWarning\n"
          ]
        },
        {
          "output_type": "display_data",
          "data": {
            "text/plain": [
              "<Figure size 720x504 with 1 Axes>"
            ],
            "image/png": "[encoded data removed]"
          },
          "metadata": {
            "needs_background": "light"
          }
        }
      ]
    },
    {
      "cell_type": "markdown",
      "source": [
        "From the above Barchart we can see that **wednesday** is having High shipment qty "
      ],
      "metadata": {
        "id": "oGFCB5jY5F_A"
      }
    },
    {
      "cell_type": "code",
      "source": [
        "# Visualising UNIT of Shipment Qty by DESCRIPTION\n",
        "\n",
        "plt.figure(figsize=(10,7))\n",
        "order = df.groupby(['DESCRIPTION']).mean().sort_values('UNIT' , ascending = False).index\n",
        "sns.barplot(df['DESCRIPTION'], df['UNIT'],order=order).set_title(\" UNIT of Shipment Qty by DESCRIPTION\",fontsize=15)\n",
        "plt.show()"
      ],
      "metadata": {
        "colab": {
          "base_uri": "https://localhost:8080/",
          "height": 515
        },
        "id": "BWHJ_pX7dWs3",
        "outputId": "e722e7be-f782-4922-d460-bf9bb898cb68"
      },
      "execution_count": 86,
      "outputs": [
        {
          "output_type": "stream",
          "name": "stderr",
          "text": [
            "/usr/local/lib/python3.7/dist-packages/seaborn/_decorators.py:43: FutureWarning: Pass the following variables as keyword args: x, y. From version 0.12, the only valid positional argument will be `data`, and passing other arguments without an explicit keyword will result in an error or misinterpretation.\n",
            "  FutureWarning\n"
          ]
        },
        {
          "output_type": "display_data",
          "data": {
            "text/plain": [
              "<Figure size 720x504 with 1 Axes>"
            ],
            "image/png": "[encoded data removed]"
          },
          "metadata": {
            "needs_background": "light"
          }
        }
      ]
    },
    {
      "cell_type": "markdown",
      "source": [
        "From the above bar chart we can see that **King Fish** is the Highest Shipped Item "
      ],
      "metadata": {
        "id": "n4qLIzww5iY3"
      }
    },
    {
      "cell_type": "code",
      "source": [
        "# Visualising UNIT of Shipment Qty by MONTH\n",
        "\n",
        "plt.figure(figsize=(10,7))\n",
        "order = df.groupby(['MONTH']).mean().sort_values('UNIT' , ascending = False).index\n",
        "sns.barplot(df['MONTH'], df['UNIT'],order=order).set_title(\"UNIT of Shipment Qty by MONTH\",fontsize=15)\n",
        "plt.show()"
      ],
      "metadata": {
        "colab": {
          "base_uri": "https://localhost:8080/",
          "height": 515
        },
        "id": "Clpa9tgmdWu8",
        "outputId": "9fd31f06-b688-4db5-e4df-5818ee2e3f2a"
      },
      "execution_count": 85,
      "outputs": [
        {
          "output_type": "stream",
          "name": "stderr",
          "text": [
            "/usr/local/lib/python3.7/dist-packages/seaborn/_decorators.py:43: FutureWarning: Pass the following variables as keyword args: x, y. From version 0.12, the only valid positional argument will be `data`, and passing other arguments without an explicit keyword will result in an error or misinterpretation.\n",
            "  FutureWarning\n"
          ]
        },
        {
          "output_type": "display_data",
          "data": {
            "text/plain": [
              "<Figure size 720x504 with 1 Axes>"
            ],
            "image/png": "[encoded data removed]"
          },
          "metadata": {
            "needs_background": "light"
          }
        }
      ]
    },
    {
      "cell_type": "markdown",
      "source": [
        "From the above chart it is Clear that **June month** has the shipment qty is the Highest"
      ],
      "metadata": {
        "id": "bPCXbMCI55YZ"
      }
    },
    {
      "cell_type": "code",
      "source": [
        "# Visualising UNIT of Shipment Qty by STATE\n",
        "\n",
        "plt.figure(figsize=(15,7))\n",
        "order = df.groupby(['STATE']).mean().sort_values('UNIT' , ascending = False).index\n",
        "sns.barplot(df['STATE'], df['UNIT'],order=order).set_title(\"UNIT of Shipment Qty by STATE\",fontsize=15)\n",
        "plt.show()"
      ],
      "metadata": {
        "colab": {
          "base_uri": "https://localhost:8080/",
          "height": 515
        },
        "id": "fgY0NbFYo3Ej",
        "outputId": "786d02dd-f071-4622-8b56-5407226bc871"
      },
      "execution_count": 84,
      "outputs": [
        {
          "output_type": "stream",
          "name": "stderr",
          "text": [
            "/usr/local/lib/python3.7/dist-packages/seaborn/_decorators.py:43: FutureWarning: Pass the following variables as keyword args: x, y. From version 0.12, the only valid positional argument will be `data`, and passing other arguments without an explicit keyword will result in an error or misinterpretation.\n",
            "  FutureWarning\n"
          ]
        },
        {
          "output_type": "display_data",
          "data": {
            "text/plain": [
              "<Figure size 1080x504 with 1 Axes>"
            ],
            "image/png": "[encoded data removed]"
          },
          "metadata": {
            "needs_background": "light"
          }
        }
      ]
    },
    {
      "cell_type": "markdown",
      "source": [
        "From the above chart we can find that Cities in **Madhyapradesh** have the highest shipment"
      ],
      "metadata": {
        "id": "zuSUjHP26y-u"
      }
    },
    {
      "cell_type": "code",
      "source": [
        "# Visualising UNIT of Shipment Qty by Week Number\n",
        "\n",
        "plt.figure(figsize=(10,7))\n",
        "order = df.groupby(['week_No']).mean().sort_values('UNIT' , ascending = False).index\n",
        "sns.barplot(df['week_No'], df['UNIT'],order=order).set_title(\"UNIT of Shipment Qty by Week Number \",fontsize=15)\n",
        "plt.show() "
      ],
      "metadata": {
        "colab": {
          "base_uri": "https://localhost:8080/",
          "height": 516
        },
        "id": "iAB_H6dMdWyk",
        "outputId": "790fb1b1-117e-4ea2-9b66-6cf3c6e5acde"
      },
      "execution_count": 83,
      "outputs": [
        {
          "output_type": "stream",
          "name": "stderr",
          "text": [
            "/usr/local/lib/python3.7/dist-packages/seaborn/_decorators.py:43: FutureWarning: Pass the following variables as keyword args: x, y. From version 0.12, the only valid positional argument will be `data`, and passing other arguments without an explicit keyword will result in an error or misinterpretation.\n",
            "  FutureWarning\n"
          ]
        },
        {
          "output_type": "display_data",
          "data": {
            "text/plain": [
              "<Figure size 720x504 with 1 Axes>"
            ],
            "image/png": "[encoded data removed]"
          },
          "metadata": {
            "needs_background": "light"
          }
        }
      ]
    },
    {
      "cell_type": "markdown",
      "source": [
        "From the above visualisation we can see that **1st and 4th week** have Highest shipment.\n",
        "\n",
        "This may be due to 1st week of the month People have their Salary So they consume more products .\n",
        "\n",
        "So to meet the demand of 1st week Many owners are making shipments in 4th week\n",
        "\n",
        "\n",
        "\n"
      ],
      "metadata": {
        "id": "WxXZC_Rq69tJ"
      }
    },
    {
      "cell_type": "code",
      "source": [
        "# Visualising VEG vs NON_VEG Shipment Qty\n",
        "\n",
        "plt.figure(figsize=(10,7))\n",
        "order = df.groupby(['FOOD_CATEGORY']).mean().sort_values('UNIT' , ascending = False).index\n",
        "sns.barplot(df['FOOD_CATEGORY'], df['UNIT'],order=order).set_title(\"VEG vs NON_VEG Shipment Qty\",fontsize=15)\n",
        "plt.show()"
      ],
      "metadata": {
        "colab": {
          "base_uri": "https://localhost:8080/",
          "height": 517
        },
        "id": "zryo8Rt0utvv",
        "outputId": "a3a81573-9d69-49c2-bb56-e2bbe49b6fd2"
      },
      "execution_count": 79,
      "outputs": [
        {
          "output_type": "stream",
          "name": "stderr",
          "text": [
            "/usr/local/lib/python3.7/dist-packages/seaborn/_decorators.py:43: FutureWarning: Pass the following variables as keyword args: x, y. From version 0.12, the only valid positional argument will be `data`, and passing other arguments without an explicit keyword will result in an error or misinterpretation.\n",
            "  FutureWarning\n"
          ]
        },
        {
          "output_type": "display_data",
          "data": {
            "text/plain": [
              "<Figure size 720x504 with 1 Axes>"
            ],
            "image/png": "[encoded data removed]"
          },
          "metadata": {
            "needs_background": "light"
          }
        }
      ]
    },
    {
      "cell_type": "markdown",
      "source": [
        "From the above chart we can see that **Non_Veg** items are shipped most"
      ],
      "metadata": {
        "id": "mATRpJZD8DAG"
      }
    },
    {
      "cell_type": "code",
      "source": [
        "from google.colab import drive\n",
        "drive.mount('drive')"
      ],
      "metadata": {
        "colab": {
          "base_uri": "https://localhost:8080/"
        },
        "id": "TmvP7VvIFphJ",
        "outputId": "220b19ae-1bc4-4171-aa28-2b8eb0224ccd"
      },
      "execution_count": 92,
      "outputs": [
        {
          "output_type": "stream",
          "name": "stdout",
          "text": [
            "Mounted at drive\n"
          ]
        }
      ]
    },
    {
      "cell_type": "code",
      "source": [
        "df.to_csv('Processed.csv') # Downloading csv\n",
        "!cp Processed.csv \"drive/My Drive/\""
      ],
      "metadata": {
        "id": "D2LFOP5FFpkw"
      },
      "execution_count": 94,
      "outputs": []
    }
  ]
}